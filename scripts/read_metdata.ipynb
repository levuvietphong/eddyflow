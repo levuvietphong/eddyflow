{
 "cells": [
  {
   "cell_type": "code",
   "execution_count": 1,
   "id": "8a1250dd",
   "metadata": {},
   "outputs": [],
   "source": [
    "import sys\n",
    "import os, glob\n",
    "import csv\n",
    "import pandas as pd\n",
    "sys.path.append('../')\n",
    "import read_cs_files2 as cs\n",
    "import subprocess\n",
    "from natsort import natsorted\n",
    "from datetime import datetime\n",
    "import sys"
   ]
  },
  {
   "cell_type": "code",
   "execution_count": 2,
   "id": "abbfd3c5",
   "metadata": {},
   "outputs": [],
   "source": [
    "fname = '/Users/pvn/Downloads/MetData895.dat'\n",
    "bin_data, meta = cs.read_cs_files(fname)"
   ]
  },
  {
   "cell_type": "code",
   "execution_count": 6,
   "id": "b031d037",
   "metadata": {},
   "outputs": [
    {
     "data": {
      "text/plain": [
       "[[datetime.datetime(2025, 9, 30, 1, 15),\n",
       "  datetime.datetime(2025, 9, 30, 1, 30),\n",
       "  datetime.datetime(2025, 9, 30, 1, 45)],\n",
       " [2363, 2364, 2365],\n",
       " [12.530000000000001, 12.530000000000001, 12.530000000000001],\n",
       " [3.681, 3.681, 3.6830000000000003],\n",
       " [25.54, 25.400000000000002, 25.29],\n",
       " [-2.341, -2.138, -2.443],\n",
       " [2.341, 2.293, 1.805],\n",
       " [-51.19, -51.660000000000004, -50.92],\n",
       " [0.741, 0.209, -0.188],\n",
       " [22.05, 22.11, 22.05],\n",
       " [295.2, 295.3, 295.2],\n",
       " [-4.682, -4.431, -4.247],\n",
       " [-51.93, -51.870000000000005, -50.730000000000004],\n",
       " [-1.026, -1.091, -0.753],\n",
       " [-56.61, -56.300000000000004, -54.980000000000004],\n",
       " [379.40000000000003, 379.3, 379.6],\n",
       " [431.3, 431.1, 430.40000000000003],\n",
       " [23.740000000000002, 23.79, 23.59],\n",
       " [83.10000000000001, 83.60000000000001, 82.9],\n",
       " [0.002, 0.001, 0.001],\n",
       " [nan, nan, nan],\n",
       " [nan, nan, nan],\n",
       " [nan, nan, nan],\n",
       " [nan, nan, nan],\n",
       " [nan, nan, nan],\n",
       " [nan, nan, nan],\n",
       " [nan, nan, nan],\n",
       " [nan, nan, nan],\n",
       " [nan, nan, nan],\n",
       " [datetime.datetime(2025, 9, 30, 1, 15),\n",
       "  datetime.datetime(2025, 9, 30, 1, 30),\n",
       "  datetime.datetime(2025, 9, 30, 1, 45)]]"
      ]
     },
     "execution_count": 6,
     "metadata": {},
     "output_type": "execute_result"
    }
   ],
   "source": [
    "bin_data"
   ]
  },
  {
   "cell_type": "code",
   "execution_count": null,
   "id": "08e36b95",
   "metadata": {},
   "outputs": [],
   "source": []
  }
 ],
 "metadata": {
  "kernelspec": {
   "display_name": "geos",
   "language": "python",
   "name": "python3"
  },
  "language_info": {
   "codemirror_mode": {
    "name": "ipython",
    "version": 3
   },
   "file_extension": ".py",
   "mimetype": "text/x-python",
   "name": "python",
   "nbconvert_exporter": "python",
   "pygments_lexer": "ipython3",
   "version": "3.11.0"
  }
 },
 "nbformat": 4,
 "nbformat_minor": 5
}
