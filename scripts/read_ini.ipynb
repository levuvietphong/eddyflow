{
 "cells": [
  {
   "cell_type": "code",
   "execution_count": 11,
   "id": "90e43b9f",
   "metadata": {},
   "outputs": [],
   "source": [
    "import configparser\n",
    "import calendar\n",
    "import numpy as np"
   ]
  },
  {
   "cell_type": "code",
   "execution_count": 2,
   "id": "bee3cafd",
   "metadata": {},
   "outputs": [
    {
     "data": {
      "text/plain": [
       "['../EddyPro/setx.eddypro']"
      ]
     },
     "execution_count": 2,
     "metadata": {},
     "output_type": "execute_result"
    }
   ],
   "source": [
    "config = configparser.ConfigParser()\n",
    "config.read('../EddyPro/setx.eddypro')"
   ]
  },
  {
   "cell_type": "code",
   "execution_count": 7,
   "id": "08460ca7",
   "metadata": {},
   "outputs": [],
   "source": [
    "project = config['Project']\n",
    "creation_date = config['Project'].get('creation_date')"
   ]
  },
  {
   "cell_type": "code",
   "execution_count": 8,
   "id": "b08e28f2",
   "metadata": {},
   "outputs": [
    {
     "data": {
      "text/plain": [
       "'2025-08-07T22:25:45'"
      ]
     },
     "execution_count": 8,
     "metadata": {},
     "output_type": "execute_result"
    }
   ],
   "source": [
    "creation_date"
   ]
  },
  {
   "cell_type": "code",
   "execution_count": 10,
   "id": "4afc2b78",
   "metadata": {},
   "outputs": [
    {
     "data": {
      "text/plain": [
       "['FluxCorrection_SpectralAnalysis_General',\n",
       " 'Project',\n",
       " 'RawProcess_BiometMeasurements',\n",
       " 'RawProcess_General',\n",
       " 'RawProcess_ParameterSettings',\n",
       " 'RawProcess_Settings',\n",
       " 'RawProcess_Tests',\n",
       " 'RawProcess_TiltCorrection_Settings',\n",
       " 'RawProcess_TimelagOptimization_Settings',\n",
       " 'RawProcess_WindDirectionFilter']"
      ]
     },
     "execution_count": 10,
     "metadata": {},
     "output_type": "execute_result"
    }
   ],
   "source": [
    "config.sections()"
   ]
  },
  {
   "cell_type": "code",
   "execution_count": 12,
   "id": "41b5a241",
   "metadata": {},
   "outputs": [
    {
     "data": {
      "text/plain": [
       "(5, 28)"
      ]
     },
     "execution_count": 12,
     "metadata": {},
     "output_type": "execute_result"
    }
   ],
   "source": [
    "calendar.monthrange(2025, 2)\n"
   ]
  },
  {
   "cell_type": "code",
   "execution_count": null,
   "id": "94a1ccf7",
   "metadata": {},
   "outputs": [],
   "source": []
  }
 ],
 "metadata": {
  "kernelspec": {
   "display_name": "geos",
   "language": "python",
   "name": "python3"
  },
  "language_info": {
   "codemirror_mode": {
    "name": "ipython",
    "version": 3
   },
   "file_extension": ".py",
   "mimetype": "text/x-python",
   "name": "python",
   "nbconvert_exporter": "python",
   "pygments_lexer": "ipython3",
   "version": "3.11.0"
  }
 },
 "nbformat": 4,
 "nbformat_minor": 5
}
